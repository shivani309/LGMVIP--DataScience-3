{
  "nbformat": 4,
  "nbformat_minor": 0,
  "metadata": {
    "colab": {
      "provenance": []
    },
    "kernelspec": {
      "name": "python3",
      "display_name": "Python 3"
    },
    "language_info": {
      "name": "python"
    }
  },
  "cells": [
    {
      "cell_type": "code",
      "execution_count": 1,
      "metadata": {
        "id": "NwIfW7qcXaGC"
      },
      "outputs": [],
      "source": [
        "\n",
        "import numpy as np # linear algebra\n",
        "import pandas as pd"
      ]
    },
    {
      "cell_type": "code",
      "source": [
        "!pip install imutils"
      ],
      "metadata": {
        "colab": {
          "base_uri": "https://localhost:8080/"
        },
        "id": "1Q_4_pPzaGxw",
        "outputId": "250a7268-1d4c-4693-ab68-2f65f69ef9d7"
      },
      "execution_count": 2,
      "outputs": [
        {
          "output_type": "stream",
          "name": "stdout",
          "text": [
            "Requirement already satisfied: imutils in /usr/local/lib/python3.10/dist-packages (0.5.4)\n"
          ]
        }
      ]
    },
    {
      "cell_type": "code",
      "source": [
        "import numpy as np\n",
        "import cv2\n",
        "import os\n",
        "import tensorflow as tf\n",
        "from tensorflow.keras.layers import Input, Conv2D, Activation, MaxPool2D, Flatten, Dense, Dropout, BatchNormalization\n",
        "from tensorflow.keras.initializers import glorot_uniform\n",
        "from tensorflow.keras.models import Sequential\n",
        "from tensorflow.keras.optimizers import Adam, SGD\n",
        "from tensorflow.keras.regularizers import l2\n",
        "from tensorflow.keras.preprocessing.image import ImageDataGenerator\n",
        "from tensorflow.keras.callbacks import LearningRateScheduler, ModelCheckpoint\n",
        "from tensorflow.keras.utils import to_categorical\n",
        "from sklearn.model_selection import train_test_split\n",
        "from sklearn.metrics import classification_report, confusion_matrix\n",
        "from sklearn.preprocessing import LabelEncoder\n",
        "import seaborn as sn\n",
        "import matplotlib.pyplot as plt\n",
        "import pandas as pd\n",
        "import imutils\n",
        "from imutils.contours import sort_contours"
      ],
      "metadata": {
        "id": "FH4DB4UvaG0D"
      },
      "execution_count": 3,
      "outputs": []
    },
    {
      "cell_type": "code",
      "source": [
        "!wget https://cainvas-static.s3.amazonaws.com/media/user_data/Yuvnish17/data.zip\n",
        "!unzip -qo data.zip"
      ],
      "metadata": {
        "colab": {
          "base_uri": "https://localhost:8080/"
        },
        "id": "GuukZSemaG2Z",
        "outputId": "c3118b3b-0a87-4a64-d60d-dddf70693045"
      },
      "execution_count": 4,
      "outputs": [
        {
          "output_type": "stream",
          "name": "stdout",
          "text": [
            "--2023-10-19 10:09:16--  https://cainvas-static.s3.amazonaws.com/media/user_data/Yuvnish17/data.zip\n",
            "Resolving cainvas-static.s3.amazonaws.com (cainvas-static.s3.amazonaws.com)... 52.219.160.79, 52.219.160.43, 52.219.160.115, ...\n",
            "Connecting to cainvas-static.s3.amazonaws.com (cainvas-static.s3.amazonaws.com)|52.219.160.79|:443... connected.\n",
            "HTTP request sent, awaiting response... 200 OK\n",
            "Length: 28437489 (27M) [application/x-zip-compressed]\n",
            "Saving to: ‘data.zip’\n",
            "\n",
            "data.zip            100%[===================>]  27.12M  8.99MB/s    in 3.0s    \n",
            "\n",
            "2023-10-19 10:09:20 (8.99 MB/s) - ‘data.zip’ saved [28437489/28437489]\n",
            "\n"
          ]
        }
      ]
    },
    {
      "cell_type": "code",
      "source": [
        "x = []\n",
        "y = []\n",
        "datadir = 'data/dataset'\n",
        "for folder in os.listdir(datadir):\n",
        "    path = os.path.join(datadir, folder)\n",
        "    for images in os.listdir(path):\n",
        "        img = cv2.imread(os.path.join(path, images))\n",
        "        x.append(img)\n",
        "        y.append(folder)\n",
        "\n",
        "print(len(x))\n",
        "print(len(y))\n",
        "print(f'labels : {list(set(y))}')"
      ],
      "metadata": {
        "colab": {
          "base_uri": "https://localhost:8080/"
        },
        "id": "eutac-TOaG4_",
        "outputId": "4cf3c9fa-f10d-4206-fcd8-cad6cb8e5b6c"
      },
      "execution_count": 5,
      "outputs": [
        {
          "output_type": "stream",
          "name": "stdout",
          "text": [
            "7600\n",
            "7600\n",
            "labels : ['0', 'sub', 'mul', '2', '3', 'div', '8', 'add', '9', '5', '7', '4', '6', '1']\n"
          ]
        }
      ]
    },
    {
      "cell_type": "code",
      "source": [
        "figure = plt.figure(figsize=(10, 10))\n",
        "j = 0\n",
        "for i in list(set(y)):\n",
        "    idx = y.index(i)\n",
        "    img = x[idx]\n",
        "    img = cv2.resize(img, (256, 256))\n",
        "    figure.add_subplot(5, 5, j+1)\n",
        "    plt.imshow(img)\n",
        "    plt.axis('off')\n",
        "    plt.title(i)\n",
        "    j += 1"
      ],
      "metadata": {
        "colab": {
          "base_uri": "https://localhost:8080/",
          "height": 510
        },
        "id": "qHbqHWbgaG7T",
        "outputId": "88456173-47b0-443e-fe7c-582155c1c608"
      },
      "execution_count": 6,
      "outputs": [
        {
          "output_type": "display_data",
          "data": {
            "text/plain": [
              "<Figure size 1000x1000 with 14 Axes>"
            ],
            "image/png": "[encoded data removed]"
          },
          "metadata": {}
        }
      ]
    },
    {
      "cell_type": "code",
      "source": [
        "X = []\n",
        "for i in range(len(x)):\n",
        "#     print(i)\n",
        "    img = x[i]\n",
        "    img_gray = cv2.cvtColor(img, cv2.COLOR_BGR2GRAY)\n",
        "    threshold_image = cv2.threshold(img_gray, 0, 255, cv2.THRESH_BINARY_INV|cv2.THRESH_OTSU)[1]\n",
        "    threshold_image = cv2.resize(threshold_image, (32, 32))\n",
        "    X.append(threshold_image)\n",
        "print(len(X))"
      ],
      "metadata": {
        "colab": {
          "base_uri": "https://localhost:8080/"
        },
        "id": "d6mNtDIJaG-x",
        "outputId": "4620e681-0f46-4aa7-e7f8-0736563195fa"
      },
      "execution_count": 7,
      "outputs": [
        {
          "output_type": "stream",
          "name": "stdout",
          "text": [
            "7600\n"
          ]
        }
      ]
    },
    {
      "cell_type": "code",
      "source": [
        "label_encoder = LabelEncoder()\n",
        "y = label_encoder.fit_transform(y)\n",
        "print(len(y))"
      ],
      "metadata": {
        "colab": {
          "base_uri": "https://localhost:8080/"
        },
        "id": "VTcOYxoDap_W",
        "outputId": "aa8a1154-221f-46aa-b822-a4faa55a82c5"
      },
      "execution_count": 8,
      "outputs": [
        {
          "output_type": "stream",
          "name": "stdout",
          "text": [
            "7600\n"
          ]
        }
      ]
    },
    {
      "cell_type": "code",
      "source": [
        "X_train, X_test, Y_train, Y_test = train_test_split(X, y, test_size=0.2)"
      ],
      "metadata": {
        "id": "wLKlbnyHaqBl"
      },
      "execution_count": 9,
      "outputs": []
    },
    {
      "cell_type": "code",
      "source": [
        "X_train = np.array(X_train)\n",
        "X_test = np.array(X_test)\n",
        "Y_train = np.array(Y_train)\n",
        "Y_test = np.array(Y_test)\n",
        "\n",
        "Y_train = to_categorical(Y_train)\n",
        "Y_test = to_categorical(Y_test)\n",
        "X_train = np.expand_dims(X_train, axis=-1)\n",
        "X_test = np.expand_dims(X_test, axis=-1)\n",
        "X_train = X_train/255.\n",
        "X_test = X_test/255.\n",
        "\n",
        "print(X_train.shape)\n",
        "print(X_test.shape)\n",
        "print(Y_train.shape)\n",
        "print(Y_test.shape)"
      ],
      "metadata": {
        "colab": {
          "base_uri": "https://localhost:8080/"
        },
        "id": "xYx2BGKgaxQe",
        "outputId": "f0c31800-4875-40c1-ba21-d40533175d37"
      },
      "execution_count": 12,
      "outputs": [
        {
          "output_type": "stream",
          "name": "stdout",
          "text": [
            "(6080, 32, 32, 1)\n",
            "(1520, 32, 32, 1)\n",
            "(6080, 14)\n",
            "(1520, 14)\n"
          ]
        }
      ]
    },
    {
      "cell_type": "code",
      "source": [
        "def math_symbol_and_digits_recognition(input_shape=(32, 32, 1)):\n",
        "    regularizer = l2(0.01)\n",
        "    model = Sequential()\n",
        "    model.add(Input(shape=input_shape))\n",
        "    model.add(Conv2D(32, (3, 3), strides=(1, 1), padding='same',\n",
        "                     kernel_initializer=glorot_uniform(seed=0),\n",
        "                     name='conv1', activity_regularizer=regularizer))\n",
        "    model.add(Activation(activation='relu', name='act1'))\n",
        "    model.add(MaxPool2D((2, 2), strides=(2, 2)))\n",
        "    model.add(Conv2D(32, (3, 3), strides=(1, 1), padding='same',\n",
        "                     kernel_initializer=glorot_uniform(seed=0),\n",
        "                     name='conv2', activity_regularizer=regularizer))\n",
        "    model.add(Activation(activation='relu', name='act2'))\n",
        "    model.add(MaxPool2D((2, 2), strides=(2, 2)))\n",
        "    model.add(Conv2D(64, (3, 3), strides=(1, 1), padding='same',\n",
        "                     kernel_initializer=glorot_uniform(seed=0),\n",
        "                     name='conv3', activity_regularizer=regularizer))\n",
        "    model.add(Activation(activation='relu', name='act3'))\n",
        "    model.add(MaxPool2D((2, 2), strides=(2, 2)))\n",
        "    model.add(Flatten())\n",
        "    model.add(Dropout(0.5))\n",
        "    model.add(Dense(120, activation='relu', kernel_initializer=glorot_uniform(seed=0), name='fc1'))\n",
        "    model.add(Dense(84, activation='relu', kernel_initializer=glorot_uniform(seed=0), name='fc2'))\n",
        "    model.add(Dense(14, activation='softmax', kernel_initializer=glorot_uniform(seed=0), name='fc3'))\n",
        "\n",
        "    optimizer = Adam()\n",
        "    model.compile(loss='categorical_crossentropy', optimizer=optimizer, metrics=['accuracy'])\n",
        "    return model"
      ],
      "metadata": {
        "id": "km3jzZd1bFXq"
      },
      "execution_count": 13,
      "outputs": []
    },
    {
      "cell_type": "code",
      "source": [
        "model = math_symbol_and_digits_recognition(input_shape=(32, 32, 1))\n",
        "model.summary()"
      ],
      "metadata": {
        "colab": {
          "base_uri": "https://localhost:8080/"
        },
        "id": "Rhqt41_2bFZe",
        "outputId": "df6da554-fb95-44db-8d92-5d92deced4ab"
      },
      "execution_count": 14,
      "outputs": [
        {
          "output_type": "stream",
          "name": "stdout",
          "text": [
            "Model: \"sequential\"\n",
            "_________________________________________________________________\n",
            " Layer (type)                Output Shape              Param #   \n",
            "=================================================================\n",
            " conv1 (Conv2D)              (None, 32, 32, 32)        320       \n",
            "                                                                 \n",
            " act1 (Activation)           (None, 32, 32, 32)        0         \n",
            "                                                                 \n",
            " max_pooling2d (MaxPooling2  (None, 16, 16, 32)        0         \n",
            " D)                                                              \n",
            "                                                                 \n",
            " conv2 (Conv2D)              (None, 16, 16, 32)        9248      \n",
            "                                                                 \n",
            " act2 (Activation)           (None, 16, 16, 32)        0         \n",
            "                                                                 \n",
            " max_pooling2d_1 (MaxPoolin  (None, 8, 8, 32)          0         \n",
            " g2D)                                                            \n",
            "                                                                 \n",
            " conv3 (Conv2D)              (None, 8, 8, 64)          18496     \n",
            "                                                                 \n",
            " act3 (Activation)           (None, 8, 8, 64)          0         \n",
            "                                                                 \n",
            " max_pooling2d_2 (MaxPoolin  (None, 4, 4, 64)          0         \n",
            " g2D)                                                            \n",
            "                                                                 \n",
            " flatten (Flatten)           (None, 1024)              0         \n",
            "                                                                 \n",
            " dropout (Dropout)           (None, 1024)              0         \n",
            "                                                                 \n",
            " fc1 (Dense)                 (None, 120)               123000    \n",
            "                                                                 \n",
            " fc2 (Dense)                 (None, 84)                10164     \n",
            "                                                                 \n",
            " fc3 (Dense)                 (None, 14)                1190      \n",
            "                                                                 \n",
            "=================================================================\n",
            "Total params: 162418 (634.45 KB)\n",
            "Trainable params: 162418 (634.45 KB)\n",
            "Non-trainable params: 0 (0.00 Byte)\n",
            "_________________________________________________________________\n"
          ]
        }
      ]
    },
    {
      "cell_type": "code",
      "source": [
        "aug = ImageDataGenerator(zoom_range=0.1,\n",
        "#                          rotation_range=5,\n",
        "                         width_shift_range=0.05,\n",
        "                         height_shift_range=0.05)\n",
        "hist = model.fit(aug.flow(X_train, Y_train, batch_size=128), batch_size=128, epochs=10, validation_data=(X_test, Y_test))\n",
        "# hist2 = model2.fit(X_train, Y_train, batch_size=128, epochs=100, validation_data=(X_test, Y_test), callbacks=callbacks)"
      ],
      "metadata": {
        "colab": {
          "base_uri": "https://localhost:8080/"
        },
        "id": "dycUp9mVbW1a",
        "outputId": "098ffeda-3467-4950-cf74-b82ebb79eb00"
      },
      "execution_count": 17,
      "outputs": [
        {
          "output_type": "stream",
          "name": "stdout",
          "text": [
            "Epoch 1/10\n",
            "48/48 [==============================] - 5s 108ms/step - loss: 0.5895 - accuracy: 0.8720 - val_loss: 0.7784 - val_accuracy: 0.8414\n",
            "Epoch 2/10\n",
            "48/48 [==============================] - 6s 117ms/step - loss: 0.5380 - accuracy: 0.8831 - val_loss: 0.6547 - val_accuracy: 0.8697\n",
            "Epoch 3/10\n",
            "48/48 [==============================] - 6s 116ms/step - loss: 0.5074 - accuracy: 0.8877 - val_loss: 0.6973 - val_accuracy: 0.8480\n",
            "Epoch 4/10\n",
            "48/48 [==============================] - 6s 116ms/step - loss: 0.4763 - accuracy: 0.8974 - val_loss: 0.6857 - val_accuracy: 0.8605\n",
            "Epoch 5/10\n",
            "48/48 [==============================] - 5s 108ms/step - loss: 0.4469 - accuracy: 0.9067 - val_loss: 0.5465 - val_accuracy: 0.8980\n",
            "Epoch 6/10\n",
            "48/48 [==============================] - 5s 108ms/step - loss: 0.4009 - accuracy: 0.9163 - val_loss: 0.4627 - val_accuracy: 0.9237\n",
            "Epoch 7/10\n",
            "48/48 [==============================] - 5s 109ms/step - loss: 0.3849 - accuracy: 0.9197 - val_loss: 0.6330 - val_accuracy: 0.8697\n",
            "Epoch 8/10\n",
            "48/48 [==============================] - 5s 108ms/step - loss: 0.3879 - accuracy: 0.9173 - val_loss: 0.4941 - val_accuracy: 0.9053\n",
            "Epoch 9/10\n",
            "48/48 [==============================] - 6s 121ms/step - loss: 0.3485 - accuracy: 0.9288 - val_loss: 0.4713 - val_accuracy: 0.9132\n",
            "Epoch 10/10\n",
            "48/48 [==============================] - 6s 124ms/step - loss: 0.3371 - accuracy: 0.9331 - val_loss: 0.3529 - val_accuracy: 0.9441\n"
          ]
        }
      ]
    },
    {
      "cell_type": "code",
      "source": [
        "ypred = model.predict(X_test)\n",
        "ypred = np.argmax(ypred, axis=1)\n",
        "Y_test_hat = np.argmax(Y_test, axis=1)\n",
        "print(classification_report(Y_test_hat, ypred))"
      ],
      "metadata": {
        "colab": {
          "base_uri": "https://localhost:8080/"
        },
        "id": "kbagjecXbW37",
        "outputId": "e262c4d0-fe37-431e-8737-8252daa6252a"
      },
      "execution_count": 18,
      "outputs": [
        {
          "output_type": "stream",
          "name": "stdout",
          "text": [
            "48/48 [==============================] - 0s 7ms/step\n",
            "              precision    recall  f1-score   support\n",
            "\n",
            "           0       0.94      0.92      0.93       126\n",
            "           1       0.98      0.89      0.93       116\n",
            "           2       0.98      0.96      0.97        92\n",
            "           3       0.98      0.91      0.94       111\n",
            "           4       0.94      0.85      0.89       100\n",
            "           5       0.99      0.89      0.94        83\n",
            "           6       0.90      0.94      0.92       104\n",
            "           7       0.93      0.97      0.95        94\n",
            "           8       0.81      0.95      0.87       118\n",
            "           9       0.84      0.99      0.91        92\n",
            "          10       0.97      0.98      0.97       116\n",
            "          11       1.00      1.00      1.00        97\n",
            "          12       1.00      0.96      0.98       132\n",
            "          13       1.00      0.99      1.00       139\n",
            "\n",
            "    accuracy                           0.94      1520\n",
            "   macro avg       0.95      0.94      0.94      1520\n",
            "weighted avg       0.95      0.94      0.94      1520\n",
            "\n"
          ]
        }
      ]
    },
    {
      "cell_type": "code",
      "source": [],
      "metadata": {
        "id": "bjAfGoY8bW6l"
      },
      "execution_count": null,
      "outputs": []
    },
    {
      "cell_type": "code",
      "source": [],
      "metadata": {
        "id": "B7sI8JcHbW9P"
      },
      "execution_count": null,
      "outputs": []
    }
  ]
}